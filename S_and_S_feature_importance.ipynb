{
 "cells": [
  {
   "cell_type": "markdown",
   "metadata": {},
   "source": [
    "### Step 1: Import Required Libraries "
   ]
  },
  {
   "cell_type": "code",
   "execution_count": 1,
   "metadata": {},
   "outputs": [],
   "source": [
    "# Imports\n",
    "import numpy as np\n",
    "import pandas as pd\n",
    "import seaborn as sns\n",
    "import pickle\n",
    "import matplotlib.pyplot as plt\n",
    "%matplotlib inline\n",
    "\n",
    "import warnings\n",
    "warnings.filterwarnings(\"ignore\")"
   ]
  },
  {
   "cell_type": "code",
   "execution_count": 2,
   "metadata": {},
   "outputs": [],
   "source": [
    "# Sklearn Imports\n",
    "from sklearn.model_selection import train_test_split, cross_val_score, KFold\n",
    "from sklearn.ensemble import RandomForestClassifier\n",
    "from sklearn.metrics import confusion_matrix, classification_report"
   ]
  },
  {
   "cell_type": "markdown",
   "metadata": {},
   "source": [
    "### Step 2: Read in csv (data) file"
   ]
  },
  {
   "cell_type": "code",
   "execution_count": 3,
   "metadata": {},
   "outputs": [
    {
     "name": "stdout",
     "output_type": "stream",
     "text": [
      "Length of dataframe is: 6539\n"
     ]
    }
   ],
   "source": [
    "# Reading from csv as a pandas dataframe \n",
    "df = pd.read_csv('sample_data.csv')\n",
    "print(\"Length of dataframe is:\", len(df))"
   ]
  },
  {
   "cell_type": "markdown",
   "metadata": {},
   "source": [
    "### Step 3: Cleaning the dataframe"
   ]
  },
  {
   "cell_type": "code",
   "execution_count": 4,
   "metadata": {},
   "outputs": [
    {
     "data": {
      "text/plain": [
       "['entity',\n",
       " 'formattype',\n",
       " 'fromdate',\n",
       " 'titlecount',\n",
       " 'titles',\n",
       " 'todate',\n",
       " 'author',\n",
       " 'amazontotalreviews',\n",
       " 'minappleprice',\n",
       " 'amazontotalrevenue',\n",
       " 'accruedpreordersoldunits',\n",
       " 'amazonlumpedpreordersubscriptionrevenue',\n",
       " 'preordersalesrevenue',\n",
       " 'foundatamazon',\n",
       " 'barnesandnobleaccruedpreorderrevenue',\n",
       " 'amazonpreordersubscriptionunits',\n",
       " 'amazonlumpedpreordersalesrevenue',\n",
       " 'foundatbarnesandnoble',\n",
       " 'maxprice',\n",
       " 'lumpedpreordersubscriptionunits',\n",
       " 'applepreorderrevenue',\n",
       " 'amazontotalunits',\n",
       " 'totalrevenue',\n",
       " 'barnesandnobleaccruedpreorderunits',\n",
       " 'preorderunits',\n",
       " 'amazonsubscriptionrevenue',\n",
       " 'amazonlumpedpreorderrevenue',\n",
       " 'maxbarnesandnoblelistprice',\n",
       " 'maxlistprice',\n",
       " 'barnesandnoblesoldunits',\n",
       " 'maxapplelistprice',\n",
       " 'amazonaccruedpreordersubscriptionrevenue',\n",
       " 'accruedpreordersubscriptionunits',\n",
       " 'amazonkenpread',\n",
       " 'applesoldunits',\n",
       " 'minamazonlistprice',\n",
       " 'minprice',\n",
       " 'bookscanreported',\n",
       " 'appleaccruedpreorderunits',\n",
       " 'preorderperiod',\n",
       " 'datepublished',\n",
       " 'lumpedpreordersoldunits',\n",
       " 'accruedpreorderrevenue',\n",
       " 'maxamazonlistprice',\n",
       " 'amazonaccruedpreorderrevenue',\n",
       " 'barnesandnoblepreorderunits',\n",
       " 'amazonaccruedpreorderunits',\n",
       " 'minbarnesandnoblelistprice',\n",
       " 'appleaccruedpreorderrevenue',\n",
       " 'applelumpedpreorderunits',\n",
       " 'applesalesrevenue',\n",
       " 'preordersoldunits',\n",
       " 'lumpedpreordersalesrevenue',\n",
       " 'totalunits',\n",
       " 'maxamazonprice',\n",
       " 'amazonlumpedpreordersoldunits',\n",
       " 'amazonaveragerating',\n",
       " 'publishertype',\n",
       " 'accruedpreorderunits',\n",
       " 'amazonsalesrevenue',\n",
       " 'barnesandnoblesalesrevenue',\n",
       " 'amazoncategories',\n",
       " 'minlistprice',\n",
       " 'amazonaccruedpreordersalesrevenue',\n",
       " 'amazonlumpedpreorderunits',\n",
       " 'lumpedpreordersubscriptionrevenue',\n",
       " 'applelumpedpreorderrevenue',\n",
       " 'minamazonprice',\n",
       " 'subscriptionunits',\n",
       " 'amazonpreorderunits',\n",
       " 'publisherparent',\n",
       " 'amazonpreorderrevenue',\n",
       " 'amazonaccruedpreordersoldunits',\n",
       " 'amazonpreordersoldunits',\n",
       " 'salesrevenue',\n",
       " 'preordersubscriptionrevenue',\n",
       " 'lumpedpreorderunits',\n",
       " 'amazonaccruedpreordersubscriptionunits',\n",
       " 'formats',\n",
       " 'applepreorderunits',\n",
       " 'subscriptionrevenue',\n",
       " 'soldunits',\n",
       " 'minapplelistprice',\n",
       " 'barnesandnoblepreorderrevenue',\n",
       " 'amazonsubscriptionunits',\n",
       " 'amazonlumpedpreordersubscriptionunits',\n",
       " 'aapreported',\n",
       " 'accruedpreordersubscriptionrevenue',\n",
       " 'foundatapple',\n",
       " 'barnesandnoblelumpedpreorderrevenue',\n",
       " 'barnesandnoblelumpedpreorderunits',\n",
       " 'minbarnesandnobleprice',\n",
       " 'accruedpreordersalesrevenue',\n",
       " 'maxbarnesandnobleprice',\n",
       " 'preorderrevenue',\n",
       " 'pubtrackreported',\n",
       " 'lumpedpreorderrevenue',\n",
       " 'amazonsoldunits',\n",
       " 'amazonpreordersubscriptionrevenue',\n",
       " 'preordersubscriptionunits',\n",
       " 'amazonpreordersalesrevenue',\n",
       " 'maxappleprice',\n",
       " 'pagelength',\n",
       " 'pricewassetbypublisher',\n",
       " 'barnesandnobledistributor',\n",
       " 'appledistributor']"
      ]
     },
     "execution_count": 4,
     "metadata": {},
     "output_type": "execute_result"
    }
   ],
   "source": [
    "# Viewing total columns of the dataframe\n",
    "df.columns.tolist()"
   ]
  },
  {
   "cell_type": "code",
   "execution_count": 5,
   "metadata": {},
   "outputs": [
    {
     "data": {
      "text/html": [
       "<div>\n",
       "<style scoped>\n",
       "    .dataframe tbody tr th:only-of-type {\n",
       "        vertical-align: middle;\n",
       "    }\n",
       "\n",
       "    .dataframe tbody tr th {\n",
       "        vertical-align: top;\n",
       "    }\n",
       "\n",
       "    .dataframe thead th {\n",
       "        text-align: right;\n",
       "    }\n",
       "</style>\n",
       "<table border=\"1\" class=\"dataframe\">\n",
       "  <thead>\n",
       "    <tr style=\"text-align: right;\">\n",
       "      <th></th>\n",
       "      <th>fromdate</th>\n",
       "      <th>titlecount</th>\n",
       "      <th>todate</th>\n",
       "      <th>amazontotalreviews</th>\n",
       "      <th>minappleprice</th>\n",
       "      <th>amazontotalrevenue</th>\n",
       "      <th>accruedpreordersoldunits</th>\n",
       "      <th>amazonlumpedpreordersubscriptionrevenue</th>\n",
       "      <th>preordersalesrevenue</th>\n",
       "      <th>foundatamazon</th>\n",
       "      <th>...</th>\n",
       "      <th>preorderrevenue</th>\n",
       "      <th>pubtrackreported</th>\n",
       "      <th>lumpedpreorderrevenue</th>\n",
       "      <th>amazonsoldunits</th>\n",
       "      <th>amazonpreordersubscriptionrevenue</th>\n",
       "      <th>preordersubscriptionunits</th>\n",
       "      <th>amazonpreordersalesrevenue</th>\n",
       "      <th>maxappleprice</th>\n",
       "      <th>pagelength</th>\n",
       "      <th>pricewassetbypublisher</th>\n",
       "    </tr>\n",
       "  </thead>\n",
       "  <tbody>\n",
       "    <tr>\n",
       "      <td>count</td>\n",
       "      <td>6.539000e+03</td>\n",
       "      <td>6539.000000</td>\n",
       "      <td>6.539000e+03</td>\n",
       "      <td>6522.000000</td>\n",
       "      <td>6539.000000</td>\n",
       "      <td>6539.000000</td>\n",
       "      <td>6539.000000</td>\n",
       "      <td>6539.0</td>\n",
       "      <td>6539.000000</td>\n",
       "      <td>6539.000000</td>\n",
       "      <td>...</td>\n",
       "      <td>6539.000000</td>\n",
       "      <td>6539.000000</td>\n",
       "      <td>6539.000000</td>\n",
       "      <td>6539.000000</td>\n",
       "      <td>6539.0</td>\n",
       "      <td>6539.0</td>\n",
       "      <td>6539.000000</td>\n",
       "      <td>6539.000000</td>\n",
       "      <td>2558.000000</td>\n",
       "      <td>1531.0</td>\n",
       "    </tr>\n",
       "    <tr>\n",
       "      <td>mean</td>\n",
       "      <td>2.018078e+07</td>\n",
       "      <td>1.599174</td>\n",
       "      <td>2.018080e+07</td>\n",
       "      <td>242.896044</td>\n",
       "      <td>118.859459</td>\n",
       "      <td>18074.906866</td>\n",
       "      <td>0.235204</td>\n",
       "      <td>0.0</td>\n",
       "      <td>155.503288</td>\n",
       "      <td>0.998165</td>\n",
       "      <td>...</td>\n",
       "      <td>155.503288</td>\n",
       "      <td>0.984095</td>\n",
       "      <td>155.503288</td>\n",
       "      <td>17.666004</td>\n",
       "      <td>0.0</td>\n",
       "      <td>0.0</td>\n",
       "      <td>155.503288</td>\n",
       "      <td>118.859459</td>\n",
       "      <td>336.532447</td>\n",
       "      <td>1.0</td>\n",
       "    </tr>\n",
       "    <tr>\n",
       "      <td>std</td>\n",
       "      <td>7.319859e+03</td>\n",
       "      <td>0.748654</td>\n",
       "      <td>7.321285e+03</td>\n",
       "      <td>57.042772</td>\n",
       "      <td>323.464108</td>\n",
       "      <td>30999.078107</td>\n",
       "      <td>2.776806</td>\n",
       "      <td>0.0</td>\n",
       "      <td>8769.366153</td>\n",
       "      <td>0.042803</td>\n",
       "      <td>...</td>\n",
       "      <td>8769.366153</td>\n",
       "      <td>0.125116</td>\n",
       "      <td>8769.366153</td>\n",
       "      <td>36.272170</td>\n",
       "      <td>0.0</td>\n",
       "      <td>0.0</td>\n",
       "      <td>8769.366153</td>\n",
       "      <td>323.464108</td>\n",
       "      <td>42.531144</td>\n",
       "      <td>0.0</td>\n",
       "    </tr>\n",
       "    <tr>\n",
       "      <td>min</td>\n",
       "      <td>2.017040e+07</td>\n",
       "      <td>1.000000</td>\n",
       "      <td>2.017040e+07</td>\n",
       "      <td>120.000000</td>\n",
       "      <td>0.000000</td>\n",
       "      <td>0.000000</td>\n",
       "      <td>0.000000</td>\n",
       "      <td>0.0</td>\n",
       "      <td>0.000000</td>\n",
       "      <td>0.000000</td>\n",
       "      <td>...</td>\n",
       "      <td>0.000000</td>\n",
       "      <td>0.000000</td>\n",
       "      <td>0.000000</td>\n",
       "      <td>0.000000</td>\n",
       "      <td>0.0</td>\n",
       "      <td>0.0</td>\n",
       "      <td>0.000000</td>\n",
       "      <td>0.000000</td>\n",
       "      <td>305.000000</td>\n",
       "      <td>1.0</td>\n",
       "    </tr>\n",
       "    <tr>\n",
       "      <td>25%</td>\n",
       "      <td>2.017121e+07</td>\n",
       "      <td>1.000000</td>\n",
       "      <td>2.017121e+07</td>\n",
       "      <td>200.000000</td>\n",
       "      <td>0.000000</td>\n",
       "      <td>1998.000000</td>\n",
       "      <td>0.000000</td>\n",
       "      <td>0.0</td>\n",
       "      <td>0.000000</td>\n",
       "      <td>1.000000</td>\n",
       "      <td>...</td>\n",
       "      <td>0.000000</td>\n",
       "      <td>1.000000</td>\n",
       "      <td>0.000000</td>\n",
       "      <td>1.000000</td>\n",
       "      <td>0.0</td>\n",
       "      <td>0.0</td>\n",
       "      <td>0.000000</td>\n",
       "      <td>0.000000</td>\n",
       "      <td>320.000000</td>\n",
       "      <td>1.0</td>\n",
       "    </tr>\n",
       "    <tr>\n",
       "      <td>50%</td>\n",
       "      <td>2.018071e+07</td>\n",
       "      <td>1.000000</td>\n",
       "      <td>2.018071e+07</td>\n",
       "      <td>250.000000</td>\n",
       "      <td>0.000000</td>\n",
       "      <td>7191.000000</td>\n",
       "      <td>0.000000</td>\n",
       "      <td>0.0</td>\n",
       "      <td>0.000000</td>\n",
       "      <td>1.000000</td>\n",
       "      <td>...</td>\n",
       "      <td>0.000000</td>\n",
       "      <td>1.000000</td>\n",
       "      <td>0.000000</td>\n",
       "      <td>6.000000</td>\n",
       "      <td>0.0</td>\n",
       "      <td>0.0</td>\n",
       "      <td>0.000000</td>\n",
       "      <td>0.000000</td>\n",
       "      <td>321.000000</td>\n",
       "      <td>1.0</td>\n",
       "    </tr>\n",
       "    <tr>\n",
       "      <td>75%</td>\n",
       "      <td>2.019013e+07</td>\n",
       "      <td>2.000000</td>\n",
       "      <td>2.019013e+07</td>\n",
       "      <td>283.000000</td>\n",
       "      <td>0.000000</td>\n",
       "      <td>17982.000000</td>\n",
       "      <td>0.000000</td>\n",
       "      <td>0.0</td>\n",
       "      <td>0.000000</td>\n",
       "      <td>1.000000</td>\n",
       "      <td>...</td>\n",
       "      <td>0.000000</td>\n",
       "      <td>1.000000</td>\n",
       "      <td>0.000000</td>\n",
       "      <td>13.000000</td>\n",
       "      <td>0.0</td>\n",
       "      <td>0.0</td>\n",
       "      <td>0.000000</td>\n",
       "      <td>0.000000</td>\n",
       "      <td>321.000000</td>\n",
       "      <td>1.0</td>\n",
       "    </tr>\n",
       "    <tr>\n",
       "      <td>max</td>\n",
       "      <td>2.019083e+07</td>\n",
       "      <td>4.000000</td>\n",
       "      <td>2.019083e+07</td>\n",
       "      <td>331.000000</td>\n",
       "      <td>999.000000</td>\n",
       "      <td>571692.000000</td>\n",
       "      <td>82.000000</td>\n",
       "      <td>0.0</td>\n",
       "      <td>501420.000000</td>\n",
       "      <td>1.000000</td>\n",
       "      <td>...</td>\n",
       "      <td>501420.000000</td>\n",
       "      <td>1.000000</td>\n",
       "      <td>501420.000000</td>\n",
       "      <td>781.000000</td>\n",
       "      <td>0.0</td>\n",
       "      <td>0.0</td>\n",
       "      <td>501420.000000</td>\n",
       "      <td>999.000000</td>\n",
       "      <td>496.000000</td>\n",
       "      <td>1.0</td>\n",
       "    </tr>\n",
       "  </tbody>\n",
       "</table>\n",
       "<p>8 rows × 95 columns</p>\n",
       "</div>"
      ],
      "text/plain": [
       "           fromdate   titlecount        todate  amazontotalreviews  \\\n",
       "count  6.539000e+03  6539.000000  6.539000e+03         6522.000000   \n",
       "mean   2.018078e+07     1.599174  2.018080e+07          242.896044   \n",
       "std    7.319859e+03     0.748654  7.321285e+03           57.042772   \n",
       "min    2.017040e+07     1.000000  2.017040e+07          120.000000   \n",
       "25%    2.017121e+07     1.000000  2.017121e+07          200.000000   \n",
       "50%    2.018071e+07     1.000000  2.018071e+07          250.000000   \n",
       "75%    2.019013e+07     2.000000  2.019013e+07          283.000000   \n",
       "max    2.019083e+07     4.000000  2.019083e+07          331.000000   \n",
       "\n",
       "       minappleprice  amazontotalrevenue  accruedpreordersoldunits  \\\n",
       "count    6539.000000         6539.000000               6539.000000   \n",
       "mean      118.859459        18074.906866                  0.235204   \n",
       "std       323.464108        30999.078107                  2.776806   \n",
       "min         0.000000            0.000000                  0.000000   \n",
       "25%         0.000000         1998.000000                  0.000000   \n",
       "50%         0.000000         7191.000000                  0.000000   \n",
       "75%         0.000000        17982.000000                  0.000000   \n",
       "max       999.000000       571692.000000                 82.000000   \n",
       "\n",
       "       amazonlumpedpreordersubscriptionrevenue  preordersalesrevenue  \\\n",
       "count                                   6539.0           6539.000000   \n",
       "mean                                       0.0            155.503288   \n",
       "std                                        0.0           8769.366153   \n",
       "min                                        0.0              0.000000   \n",
       "25%                                        0.0              0.000000   \n",
       "50%                                        0.0              0.000000   \n",
       "75%                                        0.0              0.000000   \n",
       "max                                        0.0         501420.000000   \n",
       "\n",
       "       foundatamazon  ...  preorderrevenue  pubtrackreported  \\\n",
       "count    6539.000000  ...      6539.000000       6539.000000   \n",
       "mean        0.998165  ...       155.503288          0.984095   \n",
       "std         0.042803  ...      8769.366153          0.125116   \n",
       "min         0.000000  ...         0.000000          0.000000   \n",
       "25%         1.000000  ...         0.000000          1.000000   \n",
       "50%         1.000000  ...         0.000000          1.000000   \n",
       "75%         1.000000  ...         0.000000          1.000000   \n",
       "max         1.000000  ...    501420.000000          1.000000   \n",
       "\n",
       "       lumpedpreorderrevenue  amazonsoldunits  \\\n",
       "count            6539.000000      6539.000000   \n",
       "mean              155.503288        17.666004   \n",
       "std              8769.366153        36.272170   \n",
       "min                 0.000000         0.000000   \n",
       "25%                 0.000000         1.000000   \n",
       "50%                 0.000000         6.000000   \n",
       "75%                 0.000000        13.000000   \n",
       "max            501420.000000       781.000000   \n",
       "\n",
       "       amazonpreordersubscriptionrevenue  preordersubscriptionunits  \\\n",
       "count                             6539.0                     6539.0   \n",
       "mean                                 0.0                        0.0   \n",
       "std                                  0.0                        0.0   \n",
       "min                                  0.0                        0.0   \n",
       "25%                                  0.0                        0.0   \n",
       "50%                                  0.0                        0.0   \n",
       "75%                                  0.0                        0.0   \n",
       "max                                  0.0                        0.0   \n",
       "\n",
       "       amazonpreordersalesrevenue  maxappleprice   pagelength  \\\n",
       "count                 6539.000000    6539.000000  2558.000000   \n",
       "mean                   155.503288     118.859459   336.532447   \n",
       "std                   8769.366153     323.464108    42.531144   \n",
       "min                      0.000000       0.000000   305.000000   \n",
       "25%                      0.000000       0.000000   320.000000   \n",
       "50%                      0.000000       0.000000   321.000000   \n",
       "75%                      0.000000       0.000000   321.000000   \n",
       "max                 501420.000000     999.000000   496.000000   \n",
       "\n",
       "       pricewassetbypublisher  \n",
       "count                  1531.0  \n",
       "mean                      1.0  \n",
       "std                       0.0  \n",
       "min                       1.0  \n",
       "25%                       1.0  \n",
       "50%                       1.0  \n",
       "75%                       1.0  \n",
       "max                       1.0  \n",
       "\n",
       "[8 rows x 95 columns]"
      ]
     },
     "execution_count": 5,
     "metadata": {},
     "output_type": "execute_result"
    }
   ],
   "source": [
    "# Stats of the dataframe\n",
    "df.describe()"
   ]
  },
  {
   "cell_type": "code",
   "execution_count": 6,
   "metadata": {},
   "outputs": [
    {
     "name": "stdout",
     "output_type": "stream",
     "text": [
      "entity 0\n",
      "formattype 0\n",
      "fromdate 0\n",
      "titlecount 0\n",
      "titles 0\n",
      "todate 0\n",
      "author 0\n",
      "amazontotalreviews 17\n",
      "minappleprice 0\n",
      "amazontotalrevenue 0\n",
      "accruedpreordersoldunits 0\n",
      "amazonlumpedpreordersubscriptionrevenue 0\n",
      "preordersalesrevenue 0\n",
      "foundatamazon 0\n",
      "barnesandnobleaccruedpreorderrevenue 0\n",
      "amazonpreordersubscriptionunits 0\n",
      "amazonlumpedpreordersalesrevenue 0\n",
      "foundatbarnesandnoble 0\n",
      "maxprice 0\n",
      "lumpedpreordersubscriptionunits 0\n",
      "applepreorderrevenue 0\n",
      "amazontotalunits 0\n",
      "totalrevenue 0\n",
      "barnesandnobleaccruedpreorderunits 0\n",
      "preorderunits 0\n",
      "amazonsubscriptionrevenue 0\n",
      "amazonlumpedpreorderrevenue 0\n",
      "maxbarnesandnoblelistprice 0\n",
      "maxlistprice 0\n",
      "barnesandnoblesoldunits 0\n",
      "maxapplelistprice 0\n",
      "amazonaccruedpreordersubscriptionrevenue 0\n",
      "accruedpreordersubscriptionunits 0\n",
      "amazonkenpread 0\n",
      "applesoldunits 0\n",
      "minamazonlistprice 0\n",
      "minprice 0\n",
      "bookscanreported 0\n",
      "appleaccruedpreorderunits 0\n",
      "preorderperiod 0\n",
      "datepublished 0\n",
      "lumpedpreordersoldunits 0\n",
      "accruedpreorderrevenue 0\n",
      "maxamazonlistprice 0\n",
      "amazonaccruedpreorderrevenue 0\n",
      "barnesandnoblepreorderunits 0\n",
      "amazonaccruedpreorderunits 0\n",
      "minbarnesandnoblelistprice 0\n",
      "appleaccruedpreorderrevenue 0\n",
      "applelumpedpreorderunits 0\n",
      "applesalesrevenue 0\n",
      "preordersoldunits 0\n",
      "lumpedpreordersalesrevenue 0\n",
      "totalunits 0\n",
      "maxamazonprice 0\n",
      "amazonlumpedpreordersoldunits 0\n",
      "amazonaveragerating 16\n",
      "publishertype 0\n",
      "accruedpreorderunits 0\n",
      "amazonsalesrevenue 0\n",
      "barnesandnoblesalesrevenue 0\n",
      "amazoncategories 5\n",
      "minlistprice 0\n",
      "amazonaccruedpreordersalesrevenue 0\n",
      "amazonlumpedpreorderunits 0\n",
      "lumpedpreordersubscriptionrevenue 0\n",
      "applelumpedpreorderrevenue 0\n",
      "minamazonprice 0\n",
      "subscriptionunits 0\n",
      "amazonpreorderunits 0\n",
      "publisherparent 0\n",
      "amazonpreorderrevenue 0\n",
      "amazonaccruedpreordersoldunits 0\n",
      "amazonpreordersoldunits 0\n",
      "salesrevenue 0\n",
      "preordersubscriptionrevenue 0\n",
      "lumpedpreorderunits 0\n",
      "amazonaccruedpreordersubscriptionunits 0\n",
      "formats 1\n",
      "applepreorderunits 0\n",
      "subscriptionrevenue 0\n",
      "soldunits 0\n",
      "minapplelistprice 0\n",
      "barnesandnoblepreorderrevenue 0\n",
      "amazonsubscriptionunits 0\n",
      "amazonlumpedpreordersubscriptionunits 0\n",
      "aapreported 0\n",
      "accruedpreordersubscriptionrevenue 0\n",
      "foundatapple 0\n",
      "barnesandnoblelumpedpreorderrevenue 0\n",
      "barnesandnoblelumpedpreorderunits 0\n",
      "minbarnesandnobleprice 0\n",
      "accruedpreordersalesrevenue 0\n",
      "maxbarnesandnobleprice 0\n",
      "preorderrevenue 0\n",
      "pubtrackreported 0\n",
      "lumpedpreorderrevenue 0\n",
      "amazonsoldunits 0\n",
      "amazonpreordersubscriptionrevenue 0\n",
      "preordersubscriptionunits 0\n",
      "amazonpreordersalesrevenue 0\n",
      "maxappleprice 0\n",
      "pagelength 3981\n",
      "pricewassetbypublisher 5008\n",
      "barnesandnobledistributor 4804\n",
      "appledistributor 5783\n"
     ]
    }
   ],
   "source": [
    "# Checking all the Null entries in the datafame\n",
    "not_null_values = []\n",
    "for col in df.columns:\n",
    "    tmp = df[col].isnull().sum()\n",
    "    if tmp != 0: not_null_values.append((col,tmp))\n",
    "    print(col,tmp)    "
   ]
  },
  {
   "cell_type": "code",
   "execution_count": 7,
   "metadata": {},
   "outputs": [
    {
     "data": {
      "text/plain": [
       "[('amazontotalreviews', 17),\n",
       " ('amazonaveragerating', 16),\n",
       " ('amazoncategories', 5),\n",
       " ('formats', 1),\n",
       " ('pagelength', 3981),\n",
       " ('pricewassetbypublisher', 5008),\n",
       " ('barnesandnobledistributor', 4804),\n",
       " ('appledistributor', 5783)]"
      ]
     },
     "execution_count": 7,
     "metadata": {},
     "output_type": "execute_result"
    }
   ],
   "source": [
    "not_null_values # Column name and how many null entries present in the respective column"
   ]
  },
  {
   "cell_type": "code",
   "execution_count": 8,
   "metadata": {},
   "outputs": [],
   "source": [
    "# Creatign a new dataframe of only Null values \n",
    "df_null_entries = df[[item[0] for item in not_null_values]]"
   ]
  },
  {
   "cell_type": "code",
   "execution_count": 9,
   "metadata": {},
   "outputs": [
    {
     "data": {
      "text/html": [
       "<div>\n",
       "<style scoped>\n",
       "    .dataframe tbody tr th:only-of-type {\n",
       "        vertical-align: middle;\n",
       "    }\n",
       "\n",
       "    .dataframe tbody tr th {\n",
       "        vertical-align: top;\n",
       "    }\n",
       "\n",
       "    .dataframe thead th {\n",
       "        text-align: right;\n",
       "    }\n",
       "</style>\n",
       "<table border=\"1\" class=\"dataframe\">\n",
       "  <thead>\n",
       "    <tr style=\"text-align: right;\">\n",
       "      <th></th>\n",
       "      <th>amazontotalreviews</th>\n",
       "      <th>amazonaveragerating</th>\n",
       "      <th>amazoncategories</th>\n",
       "      <th>formats</th>\n",
       "      <th>pagelength</th>\n",
       "      <th>pricewassetbypublisher</th>\n",
       "      <th>barnesandnobledistributor</th>\n",
       "      <th>appledistributor</th>\n",
       "    </tr>\n",
       "  </thead>\n",
       "  <tbody>\n",
       "    <tr>\n",
       "      <td>0</td>\n",
       "      <td>306.0</td>\n",
       "      <td>410.0</td>\n",
       "      <td>Books &gt; Books on CD &gt; Mystery &amp; Thrillers ; Bo...</td>\n",
       "      <td>Audio CD</td>\n",
       "      <td>NaN</td>\n",
       "      <td>NaN</td>\n",
       "      <td>NaN</td>\n",
       "      <td>NaN</td>\n",
       "    </tr>\n",
       "    <tr>\n",
       "      <td>1</td>\n",
       "      <td>306.0</td>\n",
       "      <td>410.0</td>\n",
       "      <td>Books &gt; Books on CD &gt; Mystery &amp; Thrillers ; Bo...</td>\n",
       "      <td>Audio CD</td>\n",
       "      <td>NaN</td>\n",
       "      <td>NaN</td>\n",
       "      <td>NaN</td>\n",
       "      <td>NaN</td>\n",
       "    </tr>\n",
       "    <tr>\n",
       "      <td>2</td>\n",
       "      <td>306.0</td>\n",
       "      <td>410.0</td>\n",
       "      <td>Books &gt; Books on CD &gt; Mystery &amp; Thrillers ; Bo...</td>\n",
       "      <td>Audio CD</td>\n",
       "      <td>NaN</td>\n",
       "      <td>NaN</td>\n",
       "      <td>NaN</td>\n",
       "      <td>NaN</td>\n",
       "    </tr>\n",
       "    <tr>\n",
       "      <td>3</td>\n",
       "      <td>306.0</td>\n",
       "      <td>410.0</td>\n",
       "      <td>Books &gt; Books on CD &gt; Mystery &amp; Thrillers ; Bo...</td>\n",
       "      <td>Audio CD</td>\n",
       "      <td>NaN</td>\n",
       "      <td>NaN</td>\n",
       "      <td>NaN</td>\n",
       "      <td>NaN</td>\n",
       "    </tr>\n",
       "    <tr>\n",
       "      <td>4</td>\n",
       "      <td>306.0</td>\n",
       "      <td>410.0</td>\n",
       "      <td>Books &gt; Books on CD &gt; Mystery &amp; Thrillers ; Bo...</td>\n",
       "      <td>Audio CD</td>\n",
       "      <td>NaN</td>\n",
       "      <td>NaN</td>\n",
       "      <td>NaN</td>\n",
       "      <td>NaN</td>\n",
       "    </tr>\n",
       "    <tr>\n",
       "      <td>5</td>\n",
       "      <td>307.0</td>\n",
       "      <td>440.0</td>\n",
       "      <td>Books &gt; Books on CD &gt; Mystery &amp; Thrillers ; Bo...</td>\n",
       "      <td>Audio CD</td>\n",
       "      <td>NaN</td>\n",
       "      <td>NaN</td>\n",
       "      <td>NaN</td>\n",
       "      <td>NaN</td>\n",
       "    </tr>\n",
       "    <tr>\n",
       "      <td>6</td>\n",
       "      <td>307.0</td>\n",
       "      <td>440.0</td>\n",
       "      <td>Books &gt; Books on CD &gt; Mystery &amp; Thrillers ; Bo...</td>\n",
       "      <td>Audio CD</td>\n",
       "      <td>NaN</td>\n",
       "      <td>NaN</td>\n",
       "      <td>NaN</td>\n",
       "      <td>NaN</td>\n",
       "    </tr>\n",
       "    <tr>\n",
       "      <td>7</td>\n",
       "      <td>307.0</td>\n",
       "      <td>440.0</td>\n",
       "      <td>Books &gt; Books on CD &gt; Mystery &amp; Thrillers ; Bo...</td>\n",
       "      <td>Audio CD</td>\n",
       "      <td>NaN</td>\n",
       "      <td>NaN</td>\n",
       "      <td>NaN</td>\n",
       "      <td>NaN</td>\n",
       "    </tr>\n",
       "    <tr>\n",
       "      <td>8</td>\n",
       "      <td>307.0</td>\n",
       "      <td>440.0</td>\n",
       "      <td>Books &gt; Books on CD &gt; Mystery &amp; Thrillers ; Bo...</td>\n",
       "      <td>Audio CD</td>\n",
       "      <td>NaN</td>\n",
       "      <td>NaN</td>\n",
       "      <td>NaN</td>\n",
       "      <td>NaN</td>\n",
       "    </tr>\n",
       "    <tr>\n",
       "      <td>9</td>\n",
       "      <td>307.0</td>\n",
       "      <td>440.0</td>\n",
       "      <td>Books &gt; Books on CD &gt; Mystery &amp; Thrillers ; Bo...</td>\n",
       "      <td>Audio CD</td>\n",
       "      <td>NaN</td>\n",
       "      <td>NaN</td>\n",
       "      <td>NaN</td>\n",
       "      <td>NaN</td>\n",
       "    </tr>\n",
       "  </tbody>\n",
       "</table>\n",
       "</div>"
      ],
      "text/plain": [
       "   amazontotalreviews  amazonaveragerating  \\\n",
       "0               306.0                410.0   \n",
       "1               306.0                410.0   \n",
       "2               306.0                410.0   \n",
       "3               306.0                410.0   \n",
       "4               306.0                410.0   \n",
       "5               307.0                440.0   \n",
       "6               307.0                440.0   \n",
       "7               307.0                440.0   \n",
       "8               307.0                440.0   \n",
       "9               307.0                440.0   \n",
       "\n",
       "                                    amazoncategories   formats  pagelength  \\\n",
       "0  Books > Books on CD > Mystery & Thrillers ; Bo...  Audio CD         NaN   \n",
       "1  Books > Books on CD > Mystery & Thrillers ; Bo...  Audio CD         NaN   \n",
       "2  Books > Books on CD > Mystery & Thrillers ; Bo...  Audio CD         NaN   \n",
       "3  Books > Books on CD > Mystery & Thrillers ; Bo...  Audio CD         NaN   \n",
       "4  Books > Books on CD > Mystery & Thrillers ; Bo...  Audio CD         NaN   \n",
       "5  Books > Books on CD > Mystery & Thrillers ; Bo...  Audio CD         NaN   \n",
       "6  Books > Books on CD > Mystery & Thrillers ; Bo...  Audio CD         NaN   \n",
       "7  Books > Books on CD > Mystery & Thrillers ; Bo...  Audio CD         NaN   \n",
       "8  Books > Books on CD > Mystery & Thrillers ; Bo...  Audio CD         NaN   \n",
       "9  Books > Books on CD > Mystery & Thrillers ; Bo...  Audio CD         NaN   \n",
       "\n",
       "   pricewassetbypublisher barnesandnobledistributor appledistributor  \n",
       "0                     NaN                       NaN              NaN  \n",
       "1                     NaN                       NaN              NaN  \n",
       "2                     NaN                       NaN              NaN  \n",
       "3                     NaN                       NaN              NaN  \n",
       "4                     NaN                       NaN              NaN  \n",
       "5                     NaN                       NaN              NaN  \n",
       "6                     NaN                       NaN              NaN  \n",
       "7                     NaN                       NaN              NaN  \n",
       "8                     NaN                       NaN              NaN  \n",
       "9                     NaN                       NaN              NaN  "
      ]
     },
     "execution_count": 9,
     "metadata": {},
     "output_type": "execute_result"
    }
   ],
   "source": [
    "df_null_entries.head(10)"
   ]
  },
  {
   "cell_type": "code",
   "execution_count": 10,
   "metadata": {},
   "outputs": [
    {
     "data": {
      "text/html": [
       "<div>\n",
       "<style scoped>\n",
       "    .dataframe tbody tr th:only-of-type {\n",
       "        vertical-align: middle;\n",
       "    }\n",
       "\n",
       "    .dataframe tbody tr th {\n",
       "        vertical-align: top;\n",
       "    }\n",
       "\n",
       "    .dataframe thead th {\n",
       "        text-align: right;\n",
       "    }\n",
       "</style>\n",
       "<table border=\"1\" class=\"dataframe\">\n",
       "  <thead>\n",
       "    <tr style=\"text-align: right;\">\n",
       "      <th></th>\n",
       "      <th>amazontotalreviews</th>\n",
       "      <th>amazonaveragerating</th>\n",
       "      <th>pagelength</th>\n",
       "      <th>pricewassetbypublisher</th>\n",
       "    </tr>\n",
       "  </thead>\n",
       "  <tbody>\n",
       "    <tr>\n",
       "      <td>count</td>\n",
       "      <td>6522.000000</td>\n",
       "      <td>6523.000000</td>\n",
       "      <td>2558.000000</td>\n",
       "      <td>1531.0</td>\n",
       "    </tr>\n",
       "    <tr>\n",
       "      <td>mean</td>\n",
       "      <td>242.896044</td>\n",
       "      <td>453.302162</td>\n",
       "      <td>336.532447</td>\n",
       "      <td>1.0</td>\n",
       "    </tr>\n",
       "    <tr>\n",
       "      <td>std</td>\n",
       "      <td>57.042772</td>\n",
       "      <td>13.736645</td>\n",
       "      <td>42.531144</td>\n",
       "      <td>0.0</td>\n",
       "    </tr>\n",
       "    <tr>\n",
       "      <td>min</td>\n",
       "      <td>120.000000</td>\n",
       "      <td>410.000000</td>\n",
       "      <td>305.000000</td>\n",
       "      <td>1.0</td>\n",
       "    </tr>\n",
       "    <tr>\n",
       "      <td>25%</td>\n",
       "      <td>200.000000</td>\n",
       "      <td>440.000000</td>\n",
       "      <td>320.000000</td>\n",
       "      <td>1.0</td>\n",
       "    </tr>\n",
       "    <tr>\n",
       "      <td>50%</td>\n",
       "      <td>250.000000</td>\n",
       "      <td>460.000000</td>\n",
       "      <td>321.000000</td>\n",
       "      <td>1.0</td>\n",
       "    </tr>\n",
       "    <tr>\n",
       "      <td>75%</td>\n",
       "      <td>283.000000</td>\n",
       "      <td>470.000000</td>\n",
       "      <td>321.000000</td>\n",
       "      <td>1.0</td>\n",
       "    </tr>\n",
       "    <tr>\n",
       "      <td>max</td>\n",
       "      <td>331.000000</td>\n",
       "      <td>470.000000</td>\n",
       "      <td>496.000000</td>\n",
       "      <td>1.0</td>\n",
       "    </tr>\n",
       "  </tbody>\n",
       "</table>\n",
       "</div>"
      ],
      "text/plain": [
       "       amazontotalreviews  amazonaveragerating   pagelength  \\\n",
       "count         6522.000000          6523.000000  2558.000000   \n",
       "mean           242.896044           453.302162   336.532447   \n",
       "std             57.042772            13.736645    42.531144   \n",
       "min            120.000000           410.000000   305.000000   \n",
       "25%            200.000000           440.000000   320.000000   \n",
       "50%            250.000000           460.000000   321.000000   \n",
       "75%            283.000000           470.000000   321.000000   \n",
       "max            331.000000           470.000000   496.000000   \n",
       "\n",
       "       pricewassetbypublisher  \n",
       "count                  1531.0  \n",
       "mean                      1.0  \n",
       "std                       0.0  \n",
       "min                       1.0  \n",
       "25%                       1.0  \n",
       "50%                       1.0  \n",
       "75%                       1.0  \n",
       "max                       1.0  "
      ]
     },
     "execution_count": 10,
     "metadata": {},
     "output_type": "execute_result"
    }
   ],
   "source": [
    "df_null_entries.describe()"
   ]
  },
  {
   "cell_type": "code",
   "execution_count": 11,
   "metadata": {},
   "outputs": [
    {
     "name": "stdout",
     "output_type": "stream",
     "text": [
      "\n",
      "Amazon Total Reviews: Replace Null by Mean\n",
      "Amazon Average Rating: Replace Null by Mode\n",
      "Page Length: Replace Null by Mean\n",
      "Price Was Set By Publisher: Replace Null by Mean\n",
      "Barnes and Noble Distributor: Replace by Mode\n",
      "Apple Distributor: Replace by Mode\n",
      "Amazon Category: Replace by Mode\n",
      "Formats: Replace by Mode\n",
      "\n"
     ]
    }
   ],
   "source": [
    "print(\"\"\"\n",
    "Amazon Total Reviews: Replace Null by Mean\n",
    "Amazon Average Rating: Replace Null by Mode\n",
    "Page Length: Replace Null by Mean\n",
    "Price Was Set By Publisher: Replace Null by Mean\n",
    "Barnes and Noble Distributor: Replace by Mode\n",
    "Apple Distributor: Replace by Mode\n",
    "Amazon Category: Replace by Mode\n",
    "Formats: Replace by Mode\n",
    "\"\"\")"
   ]
  },
  {
   "cell_type": "code",
   "execution_count": 12,
   "metadata": {},
   "outputs": [],
   "source": [
    "df['amazontotalreviews'].fillna(df['amazontotalreviews'].mean(), inplace=True)\n",
    "df['amazonaveragerating'].fillna(df['amazonaveragerating'].mode().iloc[0], inplace=True)\n",
    "df['pagelength'].fillna(df['pagelength'].mean(), inplace=True)\n",
    "df['pricewassetbypublisher'].fillna(df['pricewassetbypublisher'].mean(), inplace=True)\n",
    "df['barnesandnobledistributor'].fillna(df['barnesandnobledistributor'].mode().iloc[0], inplace=True)\n",
    "df['appledistributor'].fillna(df['appledistributor'].mode().iloc[0], inplace=True)\n",
    "df['formats'].fillna(df['formats'].mode().iloc[0], inplace=True)\n",
    "df['amazoncategories'].fillna(df['amazoncategories'].mode().iloc[0], inplace=True)"
   ]
  },
  {
   "cell_type": "code",
   "execution_count": 13,
   "metadata": {},
   "outputs": [
    {
     "name": "stdout",
     "output_type": "stream",
     "text": [
      "entity 0\n",
      "formattype 0\n",
      "fromdate 0\n",
      "titlecount 0\n",
      "titles 0\n",
      "todate 0\n",
      "author 0\n",
      "amazontotalreviews 0\n",
      "minappleprice 0\n",
      "amazontotalrevenue 0\n",
      "accruedpreordersoldunits 0\n",
      "amazonlumpedpreordersubscriptionrevenue 0\n",
      "preordersalesrevenue 0\n",
      "foundatamazon 0\n",
      "barnesandnobleaccruedpreorderrevenue 0\n",
      "amazonpreordersubscriptionunits 0\n",
      "amazonlumpedpreordersalesrevenue 0\n",
      "foundatbarnesandnoble 0\n",
      "maxprice 0\n",
      "lumpedpreordersubscriptionunits 0\n",
      "applepreorderrevenue 0\n",
      "amazontotalunits 0\n",
      "totalrevenue 0\n",
      "barnesandnobleaccruedpreorderunits 0\n",
      "preorderunits 0\n",
      "amazonsubscriptionrevenue 0\n",
      "amazonlumpedpreorderrevenue 0\n",
      "maxbarnesandnoblelistprice 0\n",
      "maxlistprice 0\n",
      "barnesandnoblesoldunits 0\n",
      "maxapplelistprice 0\n",
      "amazonaccruedpreordersubscriptionrevenue 0\n",
      "accruedpreordersubscriptionunits 0\n",
      "amazonkenpread 0\n",
      "applesoldunits 0\n",
      "minamazonlistprice 0\n",
      "minprice 0\n",
      "bookscanreported 0\n",
      "appleaccruedpreorderunits 0\n",
      "preorderperiod 0\n",
      "datepublished 0\n",
      "lumpedpreordersoldunits 0\n",
      "accruedpreorderrevenue 0\n",
      "maxamazonlistprice 0\n",
      "amazonaccruedpreorderrevenue 0\n",
      "barnesandnoblepreorderunits 0\n",
      "amazonaccruedpreorderunits 0\n",
      "minbarnesandnoblelistprice 0\n",
      "appleaccruedpreorderrevenue 0\n",
      "applelumpedpreorderunits 0\n",
      "applesalesrevenue 0\n",
      "preordersoldunits 0\n",
      "lumpedpreordersalesrevenue 0\n",
      "totalunits 0\n",
      "maxamazonprice 0\n",
      "amazonlumpedpreordersoldunits 0\n",
      "amazonaveragerating 0\n",
      "publishertype 0\n",
      "accruedpreorderunits 0\n",
      "amazonsalesrevenue 0\n",
      "barnesandnoblesalesrevenue 0\n",
      "amazoncategories 0\n",
      "minlistprice 0\n",
      "amazonaccruedpreordersalesrevenue 0\n",
      "amazonlumpedpreorderunits 0\n",
      "lumpedpreordersubscriptionrevenue 0\n",
      "applelumpedpreorderrevenue 0\n",
      "minamazonprice 0\n",
      "subscriptionunits 0\n",
      "amazonpreorderunits 0\n",
      "publisherparent 0\n",
      "amazonpreorderrevenue 0\n",
      "amazonaccruedpreordersoldunits 0\n",
      "amazonpreordersoldunits 0\n",
      "salesrevenue 0\n",
      "preordersubscriptionrevenue 0\n",
      "lumpedpreorderunits 0\n",
      "amazonaccruedpreordersubscriptionunits 0\n",
      "formats 0\n",
      "applepreorderunits 0\n",
      "subscriptionrevenue 0\n",
      "soldunits 0\n",
      "minapplelistprice 0\n",
      "barnesandnoblepreorderrevenue 0\n",
      "amazonsubscriptionunits 0\n",
      "amazonlumpedpreordersubscriptionunits 0\n",
      "aapreported 0\n",
      "accruedpreordersubscriptionrevenue 0\n",
      "foundatapple 0\n",
      "barnesandnoblelumpedpreorderrevenue 0\n",
      "barnesandnoblelumpedpreorderunits 0\n",
      "minbarnesandnobleprice 0\n",
      "accruedpreordersalesrevenue 0\n",
      "maxbarnesandnobleprice 0\n",
      "preorderrevenue 0\n",
      "pubtrackreported 0\n",
      "lumpedpreorderrevenue 0\n",
      "amazonsoldunits 0\n",
      "amazonpreordersubscriptionrevenue 0\n",
      "preordersubscriptionunits 0\n",
      "amazonpreordersalesrevenue 0\n",
      "maxappleprice 0\n",
      "pagelength 0\n",
      "pricewassetbypublisher 0\n",
      "barnesandnobledistributor 0\n",
      "appledistributor 0\n"
     ]
    }
   ],
   "source": [
    "# Checking for Null values \n",
    "for col in df.columns:\n",
    "    tmp = df[col].isnull().sum()\n",
    "    print(col,tmp)"
   ]
  },
  {
   "cell_type": "code",
   "execution_count": 14,
   "metadata": {},
   "outputs": [
    {
     "name": "stdout",
     "output_type": "stream",
     "text": [
      "No Null values prresent anymore\n"
     ]
    }
   ],
   "source": [
    "print(\"No Null values prresent anymore\")"
   ]
  },
  {
   "cell_type": "markdown",
   "metadata": {},
   "source": [
    "### Step 4: Plotting Graphs/ Data-visulaization"
   ]
  },
  {
   "cell_type": "code",
   "execution_count": 15,
   "metadata": {},
   "outputs": [
    {
     "data": {
      "text/plain": [
       "Text(0.5, 1.0, 'Authors vs Preorder Sale Revenue')"
      ]
     },
     "execution_count": 15,
     "metadata": {},
     "output_type": "execute_result"
    },
    {
     "data": {
      "image/png": "[encoded data removed]",
      "text/plain": [
       "<Figure size 360x360 with 1 Axes>"
      ]
     },
     "metadata": {
      "needs_background": "light"
     },
     "output_type": "display_data"
    }
   ],
   "source": [
    "# Author vs Preorder Sale Revenue\n",
    "plt.figure(figsize = (5,5))\n",
    "sns.set_style(\"darkgrid\")\n",
    "authors = df.groupby('author')['preordersalesrevenue'].sum().reset_index()\n",
    "authors['author'] = authors['author'].astype(object)\n",
    "authors['preordersalesrevenue'] = authors['preordersalesrevenue'].astype(int)\n",
    "sns.barplot(authors['author'], authors['preordersalesrevenue'],  linewidth = 2,  palette = \"muted\")\n",
    "plt.grid(True)\n",
    "plt.title(\"Authors vs Preorder Sale Revenue\", color='b', fontsize = 20, loc = 'center' )"
   ]
  },
  {
   "cell_type": "code",
   "execution_count": 16,
   "metadata": {},
   "outputs": [
    {
     "data": {
      "text/plain": [
       "Text(0.5, 1.0, 'Authors vs Title Count')"
      ]
     },
     "execution_count": 16,
     "metadata": {},
     "output_type": "execute_result"
    },
    {
     "data": {
      "image/png": "[encoded data removed]",
      "text/plain": [
       "<Figure size 360x360 with 1 Axes>"
      ]
     },
     "metadata": {},
     "output_type": "display_data"
    }
   ],
   "source": [
    "# Author vs Title Count\n",
    "plt.figure(figsize = (5,5))\n",
    "sns.set_style(\"darkgrid\")\n",
    "title_count = df.groupby('author')['titlecount'].sum().reset_index()\n",
    "title_count['author'] = title_count['author'].astype(object)\n",
    "title_count['titlecount'] = title_count['titlecount'].astype(int)\n",
    "sns.barplot(title_count['author'], title_count['titlecount'],  linewidth = 1,  palette = \"muted\")\n",
    "plt.grid(True)\n",
    "plt.title(\"Authors vs Title Count\", color='b', fontsize = 20, loc = 'center' )"
   ]
  },
  {
   "cell_type": "code",
   "execution_count": 17,
   "metadata": {},
   "outputs": [
    {
     "data": {
      "text/plain": [
       "Text(0.5, 1.0, 'Authors vs Found at Amazon')"
      ]
     },
     "execution_count": 17,
     "metadata": {},
     "output_type": "execute_result"
    },
    {
     "data": {
      "image/png": "[encoded data removed]",
      "text/plain": [
       "<Figure size 360x360 with 1 Axes>"
      ]
     },
     "metadata": {},
     "output_type": "display_data"
    }
   ],
   "source": [
    "# Author vs Found at Amazon\n",
    "plt.figure(figsize = (5,5))\n",
    "sns.set_style(\"darkgrid\")\n",
    "fd_amazon = df.groupby('author')['foundatamazon'].sum().reset_index()\n",
    "fd_amazon['author'] = fd_amazon['author'].astype(object)\n",
    "fd_amazon['foundatamazon'] = fd_amazon['foundatamazon'].astype(int)\n",
    "sns.barplot(fd_amazon['author'], fd_amazon['foundatamazon'],  linewidth = 1,  palette = \"muted\")\n",
    "plt.grid(True)\n",
    "plt.title(\"Authors vs Found at Amazon\", color='b', fontsize = 20, loc = 'center')"
   ]
  },
  {
   "cell_type": "code",
   "execution_count": 18,
   "metadata": {},
   "outputs": [
    {
     "data": {
      "text/plain": [
       "Text(0.5, 1.0, 'Authors vs Barnes and Noble')"
      ]
     },
     "execution_count": 18,
     "metadata": {},
     "output_type": "execute_result"
    },
    {
     "data": {
      "image/png": "[encoded data removed]",
      "text/plain": [
       "<Figure size 360x360 with 1 Axes>"
      ]
     },
     "metadata": {},
     "output_type": "display_data"
    }
   ],
   "source": [
    "# Author vs Found at Barnes and Noble\n",
    "plt.figure(figsize = (5,5))\n",
    "sns.set_style(\"darkgrid\")\n",
    "fd_BandA = df.groupby('author')['foundatbarnesandnoble'].sum().reset_index()\n",
    "fd_BandA['author'] = fd_BandA['author'].astype(object)\n",
    "fd_BandA['foundatbarnesandnoble'] = fd_BandA['foundatbarnesandnoble'].astype(int)\n",
    "sns.barplot(fd_BandA['author'], fd_BandA['foundatbarnesandnoble'],  linewidth = 1,  palette = \"muted\")\n",
    "plt.grid(True)\n",
    "plt.title(\"Authors vs Barnes and Noble\", color='b', fontsize = 20, loc = 'center')"
   ]
  },
  {
   "cell_type": "code",
   "execution_count": 19,
   "metadata": {},
   "outputs": [
    {
     "data": {
      "text/plain": [
       "<seaborn.axisgrid.FacetGrid at 0x2215a2629c8>"
      ]
     },
     "execution_count": 19,
     "metadata": {},
     "output_type": "execute_result"
    },
    {
     "data": {
      "text/plain": [
       "<Figure size 360x360 with 0 Axes>"
      ]
     },
     "metadata": {},
     "output_type": "display_data"
    },
    {
     "data": {
      "image/png": "[encoded data removed]",
      "text/plain": [
       "<Figure size 360x360 with 1 Axes>"
      ]
     },
     "metadata": {},
     "output_type": "display_data"
    }
   ],
   "source": [
    "# Author vs Amazon Total Reviews\n",
    "plt.figure(figsize = (5,5))\n",
    "sns.catplot(x='author', y='amazontotalreviews', kind = 'violin', data=df)"
   ]
  },
  {
   "cell_type": "code",
   "execution_count": 20,
   "metadata": {},
   "outputs": [
    {
     "data": {
      "text/plain": [
       "count    6539.000000\n",
       "mean      242.896044\n",
       "std        56.968563\n",
       "min       120.000000\n",
       "25%       200.000000\n",
       "50%       250.000000\n",
       "75%       283.000000\n",
       "max       331.000000\n",
       "Name: amazontotalreviews, dtype: float64"
      ]
     },
     "execution_count": 20,
     "metadata": {},
     "output_type": "execute_result"
    }
   ],
   "source": [
    "df['amazontotalreviews'].describe()"
   ]
  },
  {
   "cell_type": "code",
   "execution_count": 21,
   "metadata": {},
   "outputs": [
    {
     "data": {
      "text/plain": [
       "array(['Simon & Schuster', 'Pocket',\n",
       "       'Simon & Schuster Audio and Blackstone Audio'], dtype=object)"
      ]
     },
     "execution_count": 21,
     "metadata": {},
     "output_type": "execute_result"
    }
   ],
   "source": [
    "df['publisherparent'].unique()"
   ]
  },
  {
   "cell_type": "code",
   "execution_count": 22,
   "metadata": {},
   "outputs": [
    {
     "data": {
      "text/plain": [
       "array(['bigfive', 'uncategorizedmanyauthor'], dtype=object)"
      ]
     },
     "execution_count": 22,
     "metadata": {},
     "output_type": "execute_result"
    }
   ],
   "source": [
    "df['publishertype'].unique()"
   ]
  },
  {
   "cell_type": "code",
   "execution_count": 23,
   "metadata": {},
   "outputs": [
    {
     "name": "stdout",
     "output_type": "stream",
     "text": [
      "[    0   702  4914 ... 86528 81835 80340]\n",
      "[    0   702  4914 ... 38376 43173 39975]\n"
     ]
    }
   ],
   "source": [
    "print(df['totalrevenue'].unique()) \n",
    "print(df['salesrevenue'].unique())"
   ]
  },
  {
   "cell_type": "code",
   "execution_count": 24,
   "metadata": {},
   "outputs": [
    {
     "data": {
      "text/plain": [
       "(array([0, 1, 2]), <a list of 3 Text xticklabel objects>)"
      ]
     },
     "execution_count": 24,
     "metadata": {},
     "output_type": "execute_result"
    },
    {
     "data": {
      "text/plain": [
       "<Figure size 1440x720 with 0 Axes>"
      ]
     },
     "metadata": {},
     "output_type": "display_data"
    },
    {
     "data": {
      "image/png": "[encoded data removed]",
      "text/plain": [
       "<Figure size 360x360 with 1 Axes>"
      ]
     },
     "metadata": {},
     "output_type": "display_data"
    }
   ],
   "source": [
    "# Publisher Parent vs Amazon Total Revenue\n",
    "plt.figure(figsize = (20,10))\n",
    "sns.catplot(x='publisherparent', y='amazontotalrevenue', kind = 'strip', data=df)\n",
    "plt.xticks(rotation=30)"
   ]
  },
  {
   "cell_type": "code",
   "execution_count": 25,
   "metadata": {},
   "outputs": [
    {
     "data": {
      "text/plain": [
       "(array([0, 1, 2]), <a list of 3 Text xticklabel objects>)"
      ]
     },
     "execution_count": 25,
     "metadata": {},
     "output_type": "execute_result"
    },
    {
     "data": {
      "text/plain": [
       "<Figure size 1440x720 with 0 Axes>"
      ]
     },
     "metadata": {},
     "output_type": "display_data"
    },
    {
     "data": {
      "image/png": "[encoded data removed]",
      "text/plain": [
       "<Figure size 360x360 with 1 Axes>"
      ]
     },
     "metadata": {},
     "output_type": "display_data"
    }
   ],
   "source": [
    "# Publisher Parent vs Total Revenue\n",
    "plt.figure(figsize = (20,10))\n",
    "sns.catplot(x='publisherparent', y='totalrevenue', kind = 'strip', data=df)\n",
    "plt.xticks(rotation=30)"
   ]
  },
  {
   "cell_type": "code",
   "execution_count": 26,
   "metadata": {},
   "outputs": [
    {
     "data": {
      "text/plain": [
       "(array([0, 1, 2]), <a list of 3 Text xticklabel objects>)"
      ]
     },
     "execution_count": 26,
     "metadata": {},
     "output_type": "execute_result"
    },
    {
     "data": {
      "text/plain": [
       "<Figure size 1440x720 with 0 Axes>"
      ]
     },
     "metadata": {},
     "output_type": "display_data"
    },
    {
     "data": {
      "image/png": "[encoded data removed]",
      "text/plain": [
       "<Figure size 360x360 with 1 Axes>"
      ]
     },
     "metadata": {},
     "output_type": "display_data"
    }
   ],
   "source": [
    "# Publisher Parent vs Sales Revenue\n",
    "plt.figure(figsize = (20,10))\n",
    "sns.catplot(x='publisherparent', y='salesrevenue', kind = 'point', data=df)\n",
    "plt.xticks(rotation=30)"
   ]
  },
  {
   "cell_type": "code",
   "execution_count": 27,
   "metadata": {},
   "outputs": [
    {
     "data": {
      "text/plain": [
       "(array([0, 1]), <a list of 2 Text xticklabel objects>)"
      ]
     },
     "execution_count": 27,
     "metadata": {},
     "output_type": "execute_result"
    },
    {
     "data": {
      "text/plain": [
       "<Figure size 1440x720 with 0 Axes>"
      ]
     },
     "metadata": {},
     "output_type": "display_data"
    },
    {
     "data": {
      "image/png": "[encoded data removed]",
      "text/plain": [
       "<Figure size 360x360 with 1 Axes>"
      ]
     },
     "metadata": {},
     "output_type": "display_data"
    }
   ],
   "source": [
    "# Publisher Type vs Amazon totalrvenue\n",
    "plt.figure(figsize = (20,10))\n",
    "sns.catplot(x='publishertype', y='amazontotalrevenue', kind = 'boxen', data=df)\n",
    "plt.xticks(rotation=30)"
   ]
  },
  {
   "cell_type": "markdown",
   "metadata": {},
   "source": [
    "### Step 5: Converting all categorical data to numerical data uing Label Encoder"
   ]
  },
  {
   "cell_type": "code",
   "execution_count": 28,
   "metadata": {},
   "outputs": [
    {
     "data": {
      "text/plain": [
       "[0, 1, 4, 6, 40, 57, 61, 70, 78, 104, 105]"
      ]
     },
     "execution_count": 28,
     "metadata": {},
     "output_type": "execute_result"
    }
   ],
   "source": [
    "# Getting location of all categorical columns/ fetaures\n",
    "    \n",
    "[df.columns.get_loc(col) for col in df.select_dtypes(include=['object'])]"
   ]
  },
  {
   "cell_type": "code",
   "execution_count": 29,
   "metadata": {},
   "outputs": [],
   "source": [
    "from sklearn.preprocessing import LabelEncoder\n",
    "lb = LabelEncoder()\n",
    "df.iloc[:,0] = lb.fit_transform(df.iloc[:,0]).astype('float64')\n",
    "df.iloc[:,1] = lb.fit_transform(df.iloc[:,1]).astype('float64')\n",
    "df.iloc[:,4] = lb.fit_transform(df.iloc[:,4]).astype('float64')\n",
    "df.iloc[:,6] = lb.fit_transform(df.iloc[:,6]).astype('float64')\n",
    "df.iloc[:,40] = lb.fit_transform(df.iloc[:,40]).astype('float64')\n",
    "df.iloc[:,57] = lb.fit_transform(df.iloc[:,57]).astype('float64')\n",
    "df.iloc[:,61] = lb.fit_transform(df.iloc[:,61]).astype('float64')\n",
    "df.iloc[:,70] = lb.fit_transform(df.iloc[:,70]).astype('float64')\n",
    "df.iloc[:,78] = lb.fit_transform(df.iloc[:,78]).astype('float64')\n",
    "df.iloc[:,104] = lb.fit_transform(df.iloc[:,104]).astype('float64')\n",
    "df.iloc[:,105] = lb.fit_transform(df.iloc[:,105]).astype('float64')"
   ]
  },
  {
   "cell_type": "markdown",
   "metadata": {},
   "source": [
    "### Step 6: Feature Extraction "
   ]
  },
  {
   "cell_type": "code",
   "execution_count": 34,
   "metadata": {},
   "outputs": [
    {
     "name": "stdout",
     "output_type": "stream",
     "text": [
      "\n",
      "Since there are 106 columns, I'm checking for important features of the dataset. \n",
      "All the Tree Based models comes with an inbuilt feature importance class in Scikit-learn. It gives us a score for each feature\n",
      "and Higher the score more important is the feature.\n",
      "\n"
     ]
    }
   ],
   "source": [
    "print(\"\"\"\n",
    "Since there are 106 columns, I'm checking for important features of the dataset. \n",
    "All the Tree Based models comes with an inbuilt feature importance class in Scikit-learn. It gives us a score for each feature\n",
    "and Higher the score more important is the feature.\n",
    "\"\"\")"
   ]
  },
  {
   "cell_type": "markdown",
   "metadata": {},
   "source": [
    "### Step 7: Creating Dataset for Model Training"
   ]
  },
  {
   "cell_type": "code",
   "execution_count": 31,
   "metadata": {},
   "outputs": [
    {
     "name": "stdout",
     "output_type": "stream",
     "text": [
      "Shape of X is: (6539, 105)\n",
      "Shape of y is: (6539,)\n"
     ]
    }
   ],
   "source": [
    "\"\"\"\n",
    "Here I'm considering this as a Classification task. There are 36 unique classess in \"Amazon Categories\". So this becomes my \n",
    "ground truth/ labels/ dependent varible. Rest of the 57 columns are the independent varibales.\n",
    "\"\"\"\n",
    "y = df.iloc[:,35].values\n",
    "X = df.drop('amazoncategories',axis=1,inplace=True)\n",
    "X = df.iloc[:,:].values\n",
    "#X = df.iloc[:,:].values\n",
    "print(\"Shape of X is:\", X.shape)\n",
    "print(\"Shape of y is:\", y.shape)"
   ]
  },
  {
   "cell_type": "code",
   "execution_count": 32,
   "metadata": {},
   "outputs": [],
   "source": [
    "def Random_forest_model(X_train, y_train,X_val,y_val,feature_select=False):\n",
    "    \"\"\"\n",
    "    This function uses Random Forest trees for classification\n",
    "    \n",
    "    It returns training and validation accurcy of each fold\n",
    "    \"\"\"\n",
    "    np.random.seed(27)\n",
    "    rf_c = RandomForestClassifier()\n",
    "    rf_c.fit(X_train,y_train)\n",
    "    score_train_acc = rf_c.score(X_train, y_train)\n",
    "    print(\"**** TRAINING INFORMATION ****\")\n",
    "    print(\"Training Accuracy: \", score_train_acc)\n",
    "    if feature_select:\n",
    "        feat_importances = pd.Series(rf_c.feature_importances_)\n",
    "        #n_largest = feat_importances.nlargest(30)\n",
    "        plt.figure(figsize =(25,25))\n",
    "        feat_importances.nlargest(50).plot(kind='barh')\n",
    "        plt.show()\n",
    "    if not feature_select:\n",
    "        score_val_acc = rf_c.score(X_val, y_val)\n",
    "        print(\"**** Validation INFORMATION ****\")\n",
    "        print(\"Validation Accuracy: \", score_val_acc) \n",
    "        print(\"------------------------------\")\n",
    "        print(\"------------------------------\")\n",
    "        print(\"**** Metrics and Scoring ****\")\n",
    "        y_pred_RF = rf_c.predict(X_val)\n",
    "        print(classification_report(y_val, y_pred_RF)) # Precision, Recall, F1 score, Accuracy\n",
    "        print(confusion_matrix(y_val, y_pred_RF))\n",
    "    \n",
    "    \n",
    "    if feature_select: return score_train_acc\n",
    "    else: return score_train_acc, score_val_acc"
   ]
  },
  {
   "cell_type": "code",
   "execution_count": 33,
   "metadata": {},
   "outputs": [
    {
     "name": "stdout",
     "output_type": "stream",
     "text": [
      "**** TRAINING INFORMATION ****\n",
      "Training Accuracy:  0.9995412142529438\n"
     ]
    },
    {
     "data": {
      "image/png": "[encoded data removed]",
      "text/plain": [
       "<Figure size 1800x1800 with 1 Axes>"
      ]
     },
     "metadata": {},
     "output_type": "display_data"
    }
   ],
   "source": [
    "rf_model_feature_select = Random_forest_model(X, y,X_val=None,y_val=None,feature_select=True)"
   ]
  }
 ],
 "metadata": {
  "kernelspec": {
   "display_name": "Python 3",
   "language": "python",
   "name": "python3"
  },
  "language_info": {
   "codemirror_mode": {
    "name": "ipython",
    "version": 3
   },
   "file_extension": ".py",
   "mimetype": "text/x-python",
   "name": "python",
   "nbconvert_exporter": "python",
   "pygments_lexer": "ipython3",
   "version": "3.7.4"
  }
 },
 "nbformat": 4,
 "nbformat_minor": 2
}
